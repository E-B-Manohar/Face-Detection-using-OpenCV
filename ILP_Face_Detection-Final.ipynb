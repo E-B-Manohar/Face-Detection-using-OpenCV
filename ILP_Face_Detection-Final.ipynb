{
 "cells": [
  {
   "cell_type": "markdown",
   "metadata": {
    "toc": true
   },
   "source": [
    "<h1>Table of Contents<span class=\"tocSkip\"></span></h1>\n",
    "<div class=\"toc\"><ul class=\"toc-item\"></ul></div>"
   ]
  },
  {
   "cell_type": "markdown",
   "metadata": {},
   "source": [
    "## Importing the necessary Libraries"
   ]
  },
  {
   "cell_type": "code",
   "execution_count": 1,
   "metadata": {
    "ExecuteTime": {
     "end_time": "2019-07-30T11:52:07.959255Z",
     "start_time": "2019-07-30T11:51:22.429848Z"
    }
   },
   "outputs": [],
   "source": [
    "# Modules to ignore warnings\n",
    "import warnings               \n",
    "warnings.filterwarnings('ignore')\n",
    "\n",
    "import tensorflow as tf\n",
    "tf.logging.set_verbosity(tf.logging.ERROR)\n",
    "\n",
    "import os   \n",
    "import shutil\n",
    "import numpy as np\n",
    "import pandas as pd\n",
    "from PIL import Image\n",
    "import matplotlib.image as mpimg\n",
    "import matplotlib.pyplot as plt\n",
    "%matplotlib inline\n",
    "from subprocess import call"
   ]
  },
  {
   "cell_type": "markdown",
   "metadata": {},
   "source": [
    "### Total number of Classes in the given dataset"
   ]
  },
  {
   "cell_type": "code",
   "execution_count": 2,
   "metadata": {},
   "outputs": [
    {
     "name": "stdout",
     "output_type": "stream",
     "text": [
      "391\n"
     ]
    }
   ],
   "source": [
    "import os   \n",
    "train_path = 'D:\\\\Downloads\\\\DIAS_INSOFE\\\\2\\\\Data_InsofeNet\\\\Data'   # Train data path\n",
    "classes = os.listdir(train_path)                          # List of directories in train path\n",
    "print(len(classes))"
   ]
  },
  {
   "cell_type": "markdown",
   "metadata": {},
   "source": [
    "### Displaying the images from each Class Directories"
   ]
  },
  {
   "cell_type": "code",
   "execution_count": 3,
   "metadata": {
    "ExecuteTime": {
     "end_time": "2019-07-30T13:18:54.818233Z",
     "start_time": "2019-07-30T13:18:34.684785Z"
    },
    "scrolled": false
   },
   "outputs": [],
   "source": [
    "### Display one valid image from the classes\n",
    "import imghdr\n",
    "import cv2\n",
    "\n",
    "for ix,i in enumerate(classes):\n",
    "    j = 1\n",
    "    f = os.listdir(os.path.join(train_path,i))[j]\n",
    "    while(imghdr.what(os.path.join(train_path,i,f)) != 'jpeg'):\n",
    "        os.remove(os.path.join(train_path,i,f))\n",
    "        j = j+1\n",
    "        f = os.listdir(os.path.join(train_path,i))[j]\n",
    "    image = cv2.imread(os.path.join(train_path,i,f))\n",
    "    cv2.imshow('Original', image)\n",
    "    cv2.waitKey(1)\n",
    "    cv2.destroyAllWindows()"
   ]
  },
  {
   "cell_type": "code",
   "execution_count": 4,
   "metadata": {},
   "outputs": [],
   "source": [
    "## import shutil\n",
    "## \n",
    "## \n",
    "## ## Removing unrecognisable files\n",
    "## \n",
    "## while True:\n",
    "##     for ix,i in enumerate(classes):\n",
    "##         for jx, j in enumerate(os.listdir(os.path.join(train_path,i))):\n",
    "##             while(imghdr.what(os.path.join(train_path,i,j)) != 'jpeg'):\n",
    "##                 # shutil.rmtree(os.path.join(train_path,i,j))\n",
    "##                 os.remove(os.path.join(train_path,i,j))\n",
    "##             print('removed',jx,'file')\n",
    "##         print(\"123\")\n",
    "##     print(\".\")"
   ]
  },
  {
   "cell_type": "markdown",
   "metadata": {},
   "source": [
    "### Face detection on first image from each class in the given data set"
   ]
  },
  {
   "cell_type": "code",
   "execution_count": 5,
   "metadata": {
    "ExecuteTime": {
     "end_time": "2019-07-30T14:14:16.462911Z",
     "start_time": "2019-07-30T14:14:09.209260Z"
    },
    "scrolled": true
   },
   "outputs": [
    {
     "name": "stdout",
     "output_type": "stream",
     "text": [
      "Found 2 Faces:  D:\\Downloads\\DIAS_INSOFE\\2\\Data_InsofeNet\\Data\\9540628\\9540628.10.jpg\n",
      "Found 2 Faces:  D:\\Downloads\\DIAS_INSOFE\\2\\Data_InsofeNet\\Data\\cprice\\cprice.10.jpg\n",
      "No faces found D:\\Downloads\\DIAS_INSOFE\\2\\Data_InsofeNet\\Data\\gpsmit\\gpsmit.10.jpg\n",
      "No faces found D:\\Downloads\\DIAS_INSOFE\\2\\Data_InsofeNet\\Data\\ischou\\ischou.10.jpg\n",
      "Found 2 Faces:  D:\\Downloads\\DIAS_INSOFE\\2\\Data_InsofeNet\\Data\\lcelli\\lcelli.10.jpg\n",
      "No faces found D:\\Downloads\\DIAS_INSOFE\\2\\Data_InsofeNet\\Data\\mystery\\mystery.10.jpg\n",
      "Found 2 Faces:  D:\\Downloads\\DIAS_INSOFE\\2\\Data_InsofeNet\\Data\\nandri\\nandri.10.jpg\n",
      "No faces found D:\\Downloads\\DIAS_INSOFE\\2\\Data_InsofeNet\\Data\\snhopp\\snhopp.10.jpg\n",
      "No faces found D:\\Downloads\\DIAS_INSOFE\\2\\Data_InsofeNet\\Data\\spacl\\spacl.10.jpg\n",
      "No faces found D:\\Downloads\\DIAS_INSOFE\\2\\Data_InsofeNet\\Data\\theod\\theod.10.jpg\n",
      "Found 2 Faces:  D:\\Downloads\\DIAS_INSOFE\\2\\Data_InsofeNet\\Data\\whussa\\whussa.11.jpg\n"
     ]
    }
   ],
   "source": [
    "# Plot a sample image from each category\n",
    "import imghdr\n",
    "import cv2\n",
    "import numpy as np\n",
    "\n",
    "face_classifier = cv2.CascadeClassifier('C://OpenCV/opencv 2/build/share/OpenCV/Haarcascades/haarcascade_frontalface_default.xml')\n",
    "FP = 0\n",
    "FN = 0\n",
    "TP = 0\n",
    "for ix,i in enumerate(classes):\n",
    "    j = 1\n",
    "    f = os.listdir(os.path.join(train_path,i))[j]\n",
    "    while(imghdr.what(os.path.join(train_path,i,f)) != 'jpeg'):\n",
    "        j = j+1\n",
    "        f = os.listdir(os.path.join(train_path,i))[j]\n",
    "        \n",
    "    image = cv2.imread(os.path.join(train_path,i,f))\n",
    "    gray = cv2.cvtColor(image, cv2.COLOR_BGR2GRAY)\n",
    "    \n",
    "    faces = face_classifier.detectMultiScale(gray, 1.25, 3)\n",
    "    \n",
    "        \n",
    "    if faces is ():\n",
    "        print(\"No faces found\", os.path.join(train_path,i,f))\n",
    "        FN = FN+1\n",
    "    elif (len(faces)) > 1:\n",
    "        print(\"Found\", len(faces),\"Faces: \", os.path.join(train_path,i,f))\n",
    "        FP = FP+1\n",
    "    else :\n",
    "        TP = TP +1\n",
    "    \n",
    "    for (x,y,w,h) in faces:\n",
    "        label = 'I\\'m Smilin !'\n",
    "        cv2.putText(image, label, (x-10,y-15), cv2.FONT_HERSHEY_COMPLEX, 1, (200,0,200), 3)\n",
    "        \n",
    "        #cv2.imshow(\"Hello World!\", image)\n",
    "        cv2.rectangle(image, (x,y), (x+w,y+h), (127,0,255), 2)\n",
    "        \n",
    "        cv2.imshow('Face Detection', image)\n",
    "        cv2.waitKey(2)\n",
    "    cv2.destroyAllWindows()"
   ]
  },
  {
   "cell_type": "markdown",
   "metadata": {},
   "source": [
    "### Model Performance"
   ]
  },
  {
   "cell_type": "code",
   "execution_count": 6,
   "metadata": {},
   "outputs": [
    {
     "name": "stdout",
     "output_type": "stream",
     "text": [
      "No. of True Positives =  380\n",
      "No. of False Positives =  5\n",
      "No. of False Negatives =  6\n"
     ]
    }
   ],
   "source": [
    "print(\"No. of True Positives = \",TP)\n",
    "print(\"No. of False Positives = \",FP)\n",
    "print(\"No. of False Negatives = \",FN)"
   ]
  },
  {
   "cell_type": "code",
   "execution_count": 7,
   "metadata": {},
   "outputs": [
    {
     "name": "stdout",
     "output_type": "stream",
     "text": [
      "Accuracy of the Framework = 97.18670076726343\n",
      "Sensitivity of the Framework = 98.7012987012987\n",
      "Precision of the Framework = 98.44559585492227\n",
      "F1 Score of the Framework = 98.57328145265888\n"
     ]
    }
   ],
   "source": [
    "print(\"Accuracy of the Framework =\",(TP*100)/(TP+FP+FN))\n",
    "print(\"Sensitivity of the Framework =\",(TP*100)/(TP+FP))\n",
    "print(\"Precision of the Framework =\",(TP*100)/(TP+FN))\n",
    "p = (TP*100)/(TP+FP)\n",
    "q = (TP*100)/(TP+FN)\n",
    "print(\"F1 Score of the Framework =\",(2*p*q/(p+q)))"
   ]
  },
  {
   "cell_type": "markdown",
   "metadata": {},
   "source": [
    "### Face Detection on a random image from internet"
   ]
  },
  {
   "cell_type": "code",
   "execution_count": 8,
   "metadata": {
    "ExecuteTime": {
     "end_time": "2019-07-30T13:17:01.525561Z",
     "start_time": "2019-07-30T13:17:01.518555Z"
    }
   },
   "outputs": [],
   "source": [
    "import numpy as np\n",
    "import cv2\n",
    "\n",
    "# We point OpenCV's CascadeClassifier function to where our \n",
    "# classifier (XML file format) is stored\n",
    "face_classifier = cv2.CascadeClassifier('C://OpenCV/opencv 2/build/share/OpenCV/Haarcascades/haarcascade_frontalface_alt2.xml')\n",
    "\n",
    "# Load our image then convert it to grayscale\n",
    "image = cv2.imread('Babji_Images/54.jpg')\n",
    "gray = cv2.cvtColor(image, cv2.COLOR_BGR2GRAY)\n",
    "\n",
    "# Our classifier returns the ROI of the detected face as a tuple\n",
    "# It stores the top left coordinate and the bottom right coordiantes\n",
    "faces = face_classifier.detectMultiScale(gray, 1.1, 4)  ## Hyper Parameters\n",
    "\n",
    "# When no faces detected, face_classifier returns and empty tuple\n",
    "if faces is ():\n",
    "    print(\"No faces found\")\n",
    "\n",
    "for (x,y,w,h) in faces:\n",
    "    label = 'I\\'m <Name> !'\n",
    "    cv2.rectangle(image, (x-20,y+h+5), (x+120,y+h+25), (157,0,255), -1)\n",
    "    cv2.putText(image, label, (x-10,y+h+20), cv2.FONT_HERSHEY_COMPLEX, 0.5, (200, 10, 10), 1)\n",
    "    cv2.imshow('Face Detection', image)\n",
    "    cv2.waitKey(0)\n",
    "    \n",
    "cv2.destroyAllWindows()"
   ]
  },
  {
   "cell_type": "code",
   "execution_count": null,
   "metadata": {},
   "outputs": [],
   "source": []
  }
 ],
 "metadata": {
  "hide_input": false,
  "kernelspec": {
   "display_name": "Python 3",
   "language": "python",
   "name": "python3"
  },
  "language_info": {
   "codemirror_mode": {
    "name": "ipython",
    "version": 3
   },
   "file_extension": ".py",
   "mimetype": "text/x-python",
   "name": "python",
   "nbconvert_exporter": "python",
   "pygments_lexer": "ipython3",
   "version": "3.6.5"
  },
  "toc": {
   "base_numbering": 1,
   "nav_menu": {},
   "number_sections": false,
   "sideBar": true,
   "skip_h1_title": false,
   "title_cell": "Table of Contents",
   "title_sidebar": "Chapters",
   "toc_cell": true,
   "toc_position": {
    "height": "calc(100% - 180px)",
    "left": "10px",
    "top": "150px",
    "width": "341px"
   },
   "toc_section_display": true,
   "toc_window_display": true
  },
  "varInspector": {
   "cols": {
    "lenName": 16,
    "lenType": 16,
    "lenVar": 40
   },
   "kernels_config": {
    "python": {
     "delete_cmd_postfix": "",
     "delete_cmd_prefix": "del ",
     "library": "var_list.py",
     "varRefreshCmd": "print(var_dic_list())"
    },
    "r": {
     "delete_cmd_postfix": ") ",
     "delete_cmd_prefix": "rm(",
     "library": "var_list.r",
     "varRefreshCmd": "cat(var_dic_list()) "
    }
   },
   "types_to_exclude": [
    "module",
    "function",
    "builtin_function_or_method",
    "instance",
    "_Feature"
   ],
   "window_display": false
  }
 },
 "nbformat": 4,
 "nbformat_minor": 2
}
